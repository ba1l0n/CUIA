{
 "cells": [
  {
   "cell_type": "markdown",
   "id": "e6610186-c67e-4959-b6f6-70f8da6db078",
   "metadata": {},
   "source": [
    "# Render de modelos 3D en Realidad Aumentada con Pyrender\n",
    "\n",
    "[Pyrender](https://pyrender.readthedocs.io/en/latest/index.html) es una biblioteca de Python para el render de escenas 3D que implementa [PBR (Physically Based Rendering)](https://en.wikipedia.org/wiki/Physically_based_rendering) y capaz de interpretar modelos en formato [glTF 2.0](https://www.khronos.org/gltf/) propuesto por el grupo [Khronos](https://www.khronos.org/), responsable de múltiples estándares abiertos.\n",
    "\n",
    "Pyrender actualmente presenta una ventaja y un inconveniente destacados:\n",
    "* Ventaja. Ofrece una API muy simple de usar para la carga y render de modelos.\n",
    "* Inconveniente. Su desarrollo y mantenimiento lleva unos años detenido por lo que la calidad del render de los modelos es muy básica y presenta algunos bugs.\n",
    "\n",
    "Para la carga de los modelos Pyrender hace uso de la biblioteca [trimesh](https://pypi.org/project/trimesh/) para la carga y procesado de modelos de mallas de triángulos."
   ]
  },
  {
   "cell_type": "code",
   "execution_count": 1,
   "id": "ba1a0467-ecc1-4b5f-98f6-8c144de31ab8",
   "metadata": {},
   "outputs": [],
   "source": [
    "import pyrender\n",
    "import trimesh"
   ]
  },
  {
   "cell_type": "markdown",
   "id": "9ceb8177-5ed9-4532-8b5e-6fb0b271eeb9",
   "metadata": {},
   "source": [
    "El renderizado de una escena 3D necesita:\n",
    "* Uno o varios modelos 3D.\n",
    "* Una o varias luces, imprescindibles para que se pueda ver el modelo. Una de las luces puede ser una luz ambiental omnipresente que no necesita que se indique su ubicación.\n",
    "* Una cámara en la que se hará la proyección de la escena.\n",
    "\n",
    "Modelos, luces y cámara deben estar ubicados en la escena en ubicaciones y posiciones relativas a un origen de coordenadas. En Realidad Aumentada, el origen de coordenadas de la escena lo ubicaremos en el centro del marcador Aruco y la cámara estará en la posición relativa de la webcam con respecto al marcador."
   ]
  },
  {
   "cell_type": "code",
   "execution_count": 2,
   "id": "7e2e39e9-0f90-4e45-9fd1-aee7a6f5a7f2",
   "metadata": {},
   "outputs": [],
   "source": [
    "import cv2\n",
    "import numpy as np\n",
    "import camara\n",
    "import cuia"
   ]
  },
  {
   "cell_type": "markdown",
   "id": "17b43b46-dc29-4822-9865-d9df7dc06a37",
   "metadata": {},
   "source": [
    "La localización, rotación y escala de los elementos de la escena 3D se especifica mediante [matrices de transformación](https://es.wikipedia.org/wiki/Matriz_de_transformaci%C3%B3n), que representan dichas operaciones en forma de matrices 4x4. Para la creación y composición de dichas matrices podemos apoyarnos en la biblioteca [mathutils](https://docs.blender.org/api/blender_python_api_current/mathutils.html), originada en el proyecto [Blender](https://www.blender.org/) para ofrecer funciones y tipos de datos que ayuden a representar elementos y operaciones necesarios en geometría 3D."
   ]
  },
  {
   "cell_type": "code",
   "execution_count": 3,
   "id": "08bb4512-ab8f-4bea-bedd-2c3a1844de07",
   "metadata": {},
   "outputs": [],
   "source": [
    "import mathutils\n",
    "import math"
   ]
  },
  {
   "cell_type": "markdown",
   "id": "57ebbb05-56d7-4e69-a268-cde444082a4b",
   "metadata": {},
   "source": [
    "**Nota**: el sistema de coordenadas usado por Pyrender (el mismo que usa OpenGL) tiene una orientación distinta al que usa OpenCV. \n",
    "\n",
    "![Sistems de coordenadas de OpenCV y Pyrender](media/opencvpyrender.png \"Sistems de coordenadas de OpenCV y Pyrender\")\n",
    "\n",
    "Por ello será necesario hacer la conversión adecuada para el uso combinado de OpenCV y Pyrender.\n",
    "\n",
    "Dada la pose percibida del marcador y calculada mediante [solvePnP](https://docs.opencv.org/4.x/d9/d0c/group__calib3d.html#ga549c2075fac14829ff4a58bc931c033d), que tendremos especificada en forma de un vector de translación **tvec** y un vector de rotación **rvec**, necesitamos expresarla en forma de matriz de transformación y adaptarla al modelo de sistema de coordenadas de Pyrender. Esto implicará el uso de la función [Rodrigues](https://docs.opencv.org/4.x/d9/d0c/group__calib3d.html#ga61585db663d9da06b68e70cfbf6a1eac) y la inversión de las componentes Y y Z."
   ]
  },
  {
   "cell_type": "code",
   "execution_count": 4,
   "id": "fc97f170-f456-458b-a1ae-5ac9325a5b2d",
   "metadata": {},
   "outputs": [],
   "source": [
    "def fromOpencvToPyrender(rvec, tvec):\n",
    "    pose = np.eye(4)\n",
    "    pose[0:3,3] = tvec.T\n",
    "    pose[0:3,0:3] = cv2.Rodrigues(rvec)[0]\n",
    "    pose[[1,2]] *= -1\n",
    "    pose = np.linalg.inv(pose)\n",
    "    return(pose)"
   ]
  },
  {
   "cell_type": "markdown",
   "id": "d4a35869-a685-4a27-a46b-0728160a47fd",
   "metadata": {},
   "source": [
    "Esta función será la que nos indique la matriz de transformación empleada para ubicar la cámara en Pyrender (en la misma osición relativa de la webcam con respecto al marcador). El resto de elementos de la escena los ubicaremos en una posición relativa al origen de coordenadas ubicado en el centro del marcador.\n",
    "\n",
    "Para empezar necesitamos una escena a la que pondremos una luz ambiental blanca y un fondo negro."
   ]
  },
  {
   "cell_type": "code",
   "execution_count": 6,
   "id": "0a41d0d3-4e2b-4491-836b-02b2de7bb72a",
   "metadata": {},
   "outputs": [],
   "source": [
    "scene = pyrender.Scene(bg_color=(0,0,0), ambient_light=(1.0, 1.0, 1.0))"
   ]
  },
  {
   "cell_type": "markdown",
   "id": "2270e6e3-ded6-4080-8f49-8e7279938316",
   "metadata": {},
   "source": [
    "Para cada modelo que queramos incorporar a la escena necesitamos cargarlo y ubicarlo dentro de la escena mediante una matriz de transformación.\n",
    "\n",
    "Para la carga y adaptación del modelo para que pueda ser usado por Pyrender empleamos trimesh."
   ]
  },
  {
   "cell_type": "code",
   "execution_count": 7,
   "id": "2dbd8181-5de8-42bd-9b5d-6534becf1191",
   "metadata": {},
   "outputs": [],
   "source": [
    "nombrefi = \"media/cubo.glb\"\n",
    "modelo_trimesh = trimesh.load(nombrefi, file_type='glb')\n",
    "modelo_mesh = pyrender.Mesh.from_trimesh(list(modelo_trimesh.geometry.values()))"
   ]
  },
  {
   "cell_type": "markdown",
   "id": "b8754fed-453c-40f9-9723-9962fefae4c8",
   "metadata": {},
   "source": [
    "Para obtener la matriz de transformación que indica translación, rotación y escala del modelo empleamos mathutils partiendo de una matriz identidad y componiendo en orden las transformaciones necesarias. Hay que recordar que la composición de matrices no es una operación conmutativa por lo que el orden de composición es significativo. Lo normal es aplicar en primer lugar el escalado, después la rotación y finalmente la translación. Para compensar el cambio de sistema de coordenadas se puede aplicar una rotación de 90 grados en el eje X.\n",
    "\n",
    "La matriz de transformación de translación la construimos mediante [Translation](https://docs.blender.org/api/blender_python_api_current/mathutils.html?highlight=translation#mathutils.Matrix.Translation) indicando las coordenadas X, Y y Z (expresadas en metros). Un modelo tiene su propio sistema de coordenadas local que suele tener su origen en el centro del modelo de modo que la translación que le aplicamos se traduce en la translación de su propio sistema de coordenadas local. Por ejemplo, si tenemos un modelo en forma de cubo de 10cm de lado (con su sistema de coordenadas local ubicado en su centro) y queremos situarlo sobre el centro del marcador, la matriz de transformación tendrá que situar su centro a 5cm de altura (eje Z)."
   ]
  },
  {
   "cell_type": "code",
   "execution_count": 8,
   "id": "023574cf-15e8-4b60-b913-0cfe646eebfd",
   "metadata": {},
   "outputs": [],
   "source": [
    "mat_loc = mathutils.Matrix.Translation((0.0, 0.0, 0.05))"
   ]
  },
  {
   "cell_type": "markdown",
   "id": "b17b4d09-230d-45b4-a6d7-6cf51dad8b8c",
   "metadata": {},
   "source": [
    "La matriz de transformación de rotación la construimos mediante [Rotation](https://docs.blender.org/api/blender_python_api_current/mathutils.html?highlight=rotation#mathutils.Matrix.Rotation), especificando el ángulo de rotación en radianes, el tamaño de la matriz (que en nuestro caso siempre será 4), y el eje alrededor del cual se realizará la rotación. Haremos una rotación de 90 grados en el eje X para que el modelo esté en la misma posición en la que fue definido (y así compensar el cambio de sistema de coordenadas). Si queremos otras rotaciones adicionales no tenemos más que ir definiéndolas para aplicarlas después en el orden adecuado.\n",
    "\n",
    "**Nota**: mathutils permite expresar rataciones en forma de quaterniones pero ahora nos vamos a limitar al empleo tradicional de ángulos de Euler."
   ]
  },
  {
   "cell_type": "code",
   "execution_count": 9,
   "id": "92b33d7a-c3c3-47f9-a49c-1d2ba4fe6925",
   "metadata": {},
   "outputs": [],
   "source": [
    "mat_rot = mathutils.Matrix.Rotation(math.radians(90.0), 4, 'X')"
   ]
  },
  {
   "cell_type": "markdown",
   "id": "3a5032a3-1741-4bda-8ef8-30cb35acb7b6",
   "metadata": {},
   "source": [
    "La matriz de transformación de escalado se contruye mediante [Scale](https://docs.blender.org/api/blender_python_api_current/mathutils.html?highlight=scale#mathutils.Matrix.Scale) indicando el factor de escala y el tamaño de la matriz de transformación que en nuestro caso siempre será 4. Un escalado de un factor 1 dejará el modelo en el tamaño original."
   ]
  },
  {
   "cell_type": "code",
   "execution_count": 10,
   "id": "d2157c66-f261-4b58-bca0-e122bbd5d3ec",
   "metadata": {},
   "outputs": [],
   "source": [
    "mat_sca = mathutils.Matrix.Scale(1.0, 4)"
   ]
  },
  {
   "cell_type": "markdown",
   "id": "35585f0e-47ac-4ff2-9877-8ee352cabd4e",
   "metadata": {},
   "source": [
    "Finalmente la matriz de transformación final será fruto de la composición de las transformaciones indivicuales. Esta operación se aplica de derecha a izquierda por lo que la aplicación de scalado seguido de rotación seguido de translación se puede componer del siguiente modo:"
   ]
  },
  {
   "cell_type": "code",
   "execution_count": 11,
   "id": "0ebda729-f50a-4242-ad7e-5b6884bad5a8",
   "metadata": {},
   "outputs": [],
   "source": [
    "meshpose = mat_loc @ mat_rot @ mat_sca"
   ]
  }
 ],
 "metadata": {
  "kernelspec": {
   "display_name": "Python 3 (ipykernel)",
   "language": "python",
   "name": "python3"
  },
  "language_info": {
   "codemirror_mode": {
    "name": "ipython",
    "version": 3
   },
   "file_extension": ".py",
   "mimetype": "text/x-python",
   "name": "python",
   "nbconvert_exporter": "python",
   "pygments_lexer": "ipython3",
   "version": "3.10.12"
  }
 },
 "nbformat": 4,
 "nbformat_minor": 5
}
