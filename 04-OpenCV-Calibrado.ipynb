{
 "cells": [
  {
   "cell_type": "markdown",
   "id": "556f21a5-eb2f-4e79-9efa-59d5ea264964",
   "metadata": {},
   "source": [
    "# Calibración de cámara"
   ]
  },
  {
   "cell_type": "markdown",
   "id": "113ef450-72ea-46f2-8838-15f9d931604f",
   "metadata": {},
   "source": [
    "La imagen captada por una cámara, que representa una proyección 2D de un escenario 3D, puede modelarse matemáticamente como un modelo ideal de [cḿara estenopeica](https://es.wikipedia.org/wiki/C%C3%A1mara_estenopeica), en que la relación existente entre los píxeles de la proyección 2D y los elementos proyectados del espacio 3D viene modelada por un [modelo de *pinhole camera*](https://en.wikipedia.org/wiki/Pinhole_camera_model)."
   ]
  },
  {
   "cell_type": "markdown",
   "id": "8955f84b-b5a7-4d1f-9794-a193f5c96607",
   "metadata": {},
   "source": [
    "![Pinhole camera](https://upload.wikimedia.org/wikipedia/commons/3/3b/Pinhole-camera.svg \"Pinhole camera model (Wikipedia)\")"
   ]
  },
  {
   "cell_type": "markdown",
   "id": "8e1d7ba5-d790-467f-a97b-22f1362ee3af",
   "metadata": {},
   "source": [
    "Las cámaras reales difieren de los modelos en ciertas [distorsiones](https://en.wikipedia.org/wiki/Distortion_(optics)) geométricas producidas en las imágenes, principalmente distorsión radial que provoca que lineas rectas en el espacio 3D aparezcan con cierta curvatura en la proyección 2D y distorsión tangencial debida a errores en el alineamiento de la lente con respecto al plano de proyección.\n",
    "\n",
    "![Distorsión](https://docs.opencv.org/4.x/calib_radial.jpg \"Distorsión radial\")"
   ]
  },
  {
   "cell_type": "markdown",
   "id": "5bef469a-2815-4b63-8ffd-b95a035349f3",
   "metadata": {},
   "source": [
    "$x_{radial} = x( 1 + k_1 r^2 + k_2 r^4 + k_3 r^6)$\n",
    "\n",
    "$y_{radial} = y( 1 + k_1 r^2 + k_2 r^4 + k_3 r^6)$\n",
    "\n",
    "$x_{tangencial} = x + [ 2p_1xy + p_2(r^2+2x^2)]$\n",
    "\n",
    "$y_{tangencial} = y + [ p_1(r^2+ 2y^2)+ 2p_2xy]$"
   ]
  },
  {
   "cell_type": "markdown",
   "id": "b66c434f-0a61-425b-93c2-1f51917e547e",
   "metadata": {},
   "source": [
    "Para poder \"rectificar\" la imagen, deshaciendo las distorsiones percibidas, será necesario estimar los parámetros $(k_1 \\hspace{10pt} k_2 \\hspace{10pt} p_1 \\hspace{10pt} p_2 \\hspace{10pt} k_3)$"
   ]
  },
  {
   "cell_type": "markdown",
   "id": "9251b4b8-d04d-4340-b444-b32e46f11744",
   "metadata": {},
   "source": [
    "Por otro lado, la proyección de la cámara depende de unos parámetros relativos a la [distancia focal](https://en.wikipedia.org/wiki/Focal_length) y el centro óptico que pueden recogerse en una matriz 3x3 característica de la cámara.\n",
    "\n",
    "$\\left [ \\begin{matrix} f_x & 0 & c_x \\\\ 0 & f_y & c_y \\\\ 0 & 0 & 1 \\end{matrix} \\right ]$"
   ]
  },
  {
   "cell_type": "markdown",
   "id": "52120ffc-85a0-44d4-8b33-b0502e472f2d",
   "metadata": {},
   "source": [
    "La [calibración de la cámara](https://docs.opencv.org/4.x/dc/dbb/tutorial_py_calibration.html) es un proceso que permite estimar la matriz característica de la cámara así como sus coeficientes de distorsión."
   ]
  },
  {
   "cell_type": "markdown",
   "id": "441f31b3-501b-448d-afb0-abffebdac8bf",
   "metadata": {},
   "source": [
    "## ¿Por qué es importante la calibración de la cámara en una aplicación de **Realidad Aumentada**?"
   ]
  },
  {
   "cell_type": "markdown",
   "id": "93130052-c006-4074-a508-e79309df725c",
   "metadata": {},
   "source": [
    "La obtención de la matriz característica y coeficientes de distorsión de la cámara tienen un importante papel en una aplicación de realidad aumentada:\n",
    "\n",
    "1. La corrección de distorsiones permite una superposicion más precisa de elementos virtuales en el mundo real.\n",
    "2. La calibración permite obtener una relación matemática entre medidas en el mundo real (metros) y medidas en la proyección (píxeles) por lo que se obtiene un marco de referencia común que facilita la ubicación de elementos virtuales especificando su ubicación mediante coordenadas expresadas en metros.\n",
    "3. Una aplicación será compatible con diversos dispositivos ya que se separan las características propias de cada cámara y el código propio de la aplicación."
   ]
  },
  {
   "cell_type": "markdown",
   "id": "b9671785-e4dc-460a-829f-944071d8a9bd",
   "metadata": {},
   "source": [
    "## Calibración de la cámara en OpenCV"
   ]
  },
  {
   "cell_type": "markdown",
   "id": "eb4a84a5-250e-49f2-a211-0370cf838cfc",
   "metadata": {},
   "source": [
    "OpenCV implementa funciones que permiten calcular la matriz característica de una cámara y sus coeficientes de distorsión a partir de un conjunto de imaǵenes captadas de un patrón de referencia. Habitualmente se emplea un patrón ajedrezado de cuadros blancos y negros.\n",
    "\n",
    "El módulo AruCo presente en OpenCV, además de ofrecer funcionalidades para la implementación de Realidad Aumentada, ofrece un proceso de [calibración](https://docs.opencv.org/4.x/da/d13/tutorial_aruco_calibration.html) mediante patrones ajedrezados que incorporan [marcadores de AruCo](https://docs.opencv.org/4.x/d5/dae/tutorial_aruco_detection.html) que hacen más fácil el proceso al permitir oclusiones parciales.\n",
    "\n",
    "![Charuco board](https://docs.opencv.org/4.x/charucoboard.png \"Charuco Board\")"
   ]
  },
  {
   "cell_type": "markdown",
   "id": "12c4eeed-e436-404a-8cdf-7f3fa9cce7e5",
   "metadata": {},
   "source": [
    "El siguiente script permite la calibración de una cámara. Hay que mostrar el patrón impreso mientras se capturan imágenes del mismo en diversas posiciones. No afecta la orientación del mismo pero es esencial que se presente completamente plano por lo que debería usarse un soporte rígido. En el momento en que se hayan captado unas cuantas imágenes se debe pulsar *Escape* para iniciar el cálculo que finalmente generará un fichero **camara.py** con la matriz característica y coeficientes de distorsión que podrán ser importados en otro script que los necesite."
   ]
  },
  {
   "cell_type": "code",
   "execution_count": 1,
   "id": "febd2bde-1afd-4418-8be0-ee53d47bbfbd",
   "metadata": {},
   "outputs": [
    {
     "name": "stdout",
     "output_type": "stream",
     "text": [
      "Espera mientras calculo los resultados de calibración de la cámara...\n"
     ]
    },
    {
     "ename": "AttributeError",
     "evalue": "module 'cv2.aruco' has no attribute 'calibrateCameraCharucoExtended'",
     "output_type": "error",
     "traceback": [
      "\u001b[0;31m---------------------------------------------------------------------------\u001b[0m",
      "\u001b[0;31mAttributeError\u001b[0m                            Traceback (most recent call last)",
      "Cell \u001b[0;32mIn[1], line 60\u001b[0m\n\u001b[1;32m     58\u001b[0m distCoeffsInt \u001b[38;5;241m=\u001b[39m np\u001b[38;5;241m.\u001b[39mzeros((\u001b[38;5;241m5\u001b[39m, \u001b[38;5;241m1\u001b[39m))\n\u001b[1;32m     59\u001b[0m flags \u001b[38;5;241m=\u001b[39m (cv2\u001b[38;5;241m.\u001b[39mCALIB_USE_INTRINSIC_GUESS \u001b[38;5;241m+\u001b[39m cv2\u001b[38;5;241m.\u001b[39mCALIB_RATIONAL_MODEL \u001b[38;5;241m+\u001b[39m cv2\u001b[38;5;241m.\u001b[39mCALIB_FIX_ASPECT_RATIO)\n\u001b[0;32m---> 60\u001b[0m (ret, cameraMatrix, distCoeffs, rvec, tvec, stdInt, stdExt, errores) \u001b[38;5;241m=\u001b[39m \u001b[43mcv2\u001b[49m\u001b[38;5;241;43m.\u001b[39;49m\u001b[43maruco\u001b[49m\u001b[38;5;241;43m.\u001b[39;49m\u001b[43mcalibrateCameraCharucoExtended\u001b[49m(charucoCorners\u001b[38;5;241m=\u001b[39mesquinas,\n\u001b[1;32m     61\u001b[0m                                                                                                         charucoIds\u001b[38;5;241m=\u001b[39mmarcadores,\n\u001b[1;32m     62\u001b[0m                                                                                                         board\u001b[38;5;241m=\u001b[39mtablero,\n\u001b[1;32m     63\u001b[0m                                                                                                         imageSize\u001b[38;5;241m=\u001b[39m(hframe, wframe),\n\u001b[1;32m     64\u001b[0m                                                                                                         cameraMatrix\u001b[38;5;241m=\u001b[39mcameraMatrixInt,\n\u001b[1;32m     65\u001b[0m                                                                                                         distCoeffs\u001b[38;5;241m=\u001b[39mdistCoeffsInt,\n\u001b[1;32m     66\u001b[0m                                                                                                         flags\u001b[38;5;241m=\u001b[39mflags,\n\u001b[1;32m     67\u001b[0m                                                                                                         criteria\u001b[38;5;241m=\u001b[39m(cv2\u001b[38;5;241m.\u001b[39mTERM_CRITERIA_EPS \u001b[38;5;241m&\u001b[39m cv2\u001b[38;5;241m.\u001b[39mTERM_CRITERIA_COUNT, \u001b[38;5;241m10000\u001b[39m, \u001b[38;5;241m1e-9\u001b[39m))\n\u001b[1;32m     69\u001b[0m \u001b[38;5;28;01mwith\u001b[39;00m \u001b[38;5;28mopen\u001b[39m(\u001b[38;5;124m'\u001b[39m\u001b[38;5;124mcamara.py\u001b[39m\u001b[38;5;124m'\u001b[39m, \u001b[38;5;124m'\u001b[39m\u001b[38;5;124mw\u001b[39m\u001b[38;5;124m'\u001b[39m) \u001b[38;5;28;01mas\u001b[39;00m fichero:\n\u001b[1;32m     70\u001b[0m     fichero\u001b[38;5;241m.\u001b[39mwrite(\u001b[38;5;124m\"\u001b[39m\u001b[38;5;124mimport numpy as np\u001b[39m\u001b[38;5;130;01m\\n\u001b[39;00m\u001b[38;5;124m\"\u001b[39m)\n",
      "\u001b[0;31mAttributeError\u001b[0m: module 'cv2.aruco' has no attribute 'calibrateCameraCharucoExtended'"
     ]
    }
   ],
   "source": [
    "import cv2\n",
    "import numpy as np\n",
    "import time\n",
    "\n",
    "DICCIONARIO = cv2.aruco.getPredefinedDictionary(cv2.aruco.DICT_5X5_50)\n",
    "tablero = cv2.aruco.CharucoBoard((7, 11), 0.025, 0.018, DICCIONARIO)\n",
    "#tablero.setLegacyPattern(True) #Esto permite el uso un tablero de anteriores versiones\n",
    "detector = cv2.aruco.CharucoDetector(tablero)\n",
    "\n",
    "# Podemos imprimir creando nosotros la imagen o descargando de...\n",
    "# https://calib.io/pages/camera-calibration-pattern-generator\n",
    "#\n",
    "#paraimprimir = tablero.generateImage((600, 800))\n",
    "#cv2.imshow(\"Para Imprimir\", paraimprimir)\n",
    "#cv2.waitKey()\n",
    "#cv2.imwrite(\"charuco.tiff\", paraimprimir)\n",
    "#exit()\n",
    "\n",
    "CPS = 1\n",
    "esquinas = []\n",
    "marcadores = []\n",
    "tiempo = 1.0 / CPS\n",
    "\n",
    "cap = cv2.VideoCapture(0)\n",
    "if cap.isOpened():\n",
    "    wframe = int(cap.get(cv2.CAP_PROP_FRAME_WIDTH))\n",
    "    hframe = int(cap.get(cv2.CAP_PROP_FRAME_HEIGHT))\n",
    "    final = False\n",
    "    n = 0\n",
    "    antes = time.time()\n",
    "    while not final:\n",
    "        ret, frame = cap.read()\n",
    "        if not ret:\n",
    "            final = True\n",
    "        else:\n",
    "            if time.time()-antes > tiempo:\n",
    "                bboxs, ids, _, _ = detector.detectBoard(frame)\n",
    "                if ids is not None and ids.size>8:\n",
    "                        antes = time.time()\n",
    "                        cv2.aruco.drawDetectedCornersCharuco(frame, bboxs, ids)\n",
    "                        esquinas.append(bboxs)\n",
    "                        marcadores.append(ids)\n",
    "                        n = n + 1\n",
    "            cv2.putText(frame, str(n), (50,50), cv2.FONT_HERSHEY_SIMPLEX, 1, (0,0,255))\n",
    "            cv2.imshow(\"WEBCAM\", frame)\n",
    "            if cv2.waitKey(20) > 0:\n",
    "                final = True\n",
    "    cap.release()\n",
    "    cv2.destroyAllWindows()\n",
    "    if n == 0:\n",
    "        print(\"No se han capturado imágenes para hacer la calibración\")\n",
    "    else:\n",
    "        print(\"Espera mientras calculo los resultados de calibración de la cámara...\")\n",
    "\n",
    "        cameraMatrixInt = np.array([[ 1000,    0, hframe/2],\n",
    "                                    [    0, 1000, wframe/2],\n",
    "                                    [    0,    0,        1]])\n",
    "        distCoeffsInt = np.zeros((5, 1))\n",
    "        flags = (cv2.CALIB_USE_INTRINSIC_GUESS + cv2.CALIB_RATIONAL_MODEL + cv2.CALIB_FIX_ASPECT_RATIO)\n",
    "        (ret, cameraMatrix, distCoeffs, rvec, tvec, stdInt, stdExt, errores) = cv2.aruco.calibrateCameraCharucoExtended(charucoCorners=esquinas,\n",
    "                                                                                                                charucoIds=marcadores,\n",
    "                                                                                                                board=tablero,\n",
    "                                                                                                                imageSize=(hframe, wframe),\n",
    "                                                                                                                cameraMatrix=cameraMatrixInt,\n",
    "                                                                                                                distCoeffs=distCoeffsInt,\n",
    "                                                                                                                flags=flags,\n",
    "                                                                                                                criteria=(cv2.TERM_CRITERIA_EPS & cv2.TERM_CRITERIA_COUNT, 10000, 1e-9))\n",
    "\n",
    "        with open('camara.py', 'w') as fichero:\n",
    "            fichero.write(\"import numpy as np\\n\")\n",
    "            fichero.write(\"cameraMatrix = np.\")\n",
    "            fichero.write(repr(cameraMatrix))\n",
    "            fichero.write(\"\\ndistCoeffs = np.\")\n",
    "            fichero.write(repr(distCoeffs))\n",
    "            fichero.close()\n",
    "            print(\"Los resultados de calibración se han guardado en el fichero camara.py\")\n",
    "else:\n",
    "    print(\"No se pudo abrir la cámara\")\n"
   ]
  }
 ],
 "metadata": {
  "kernelspec": {
   "display_name": "Python 3 (ipykernel)",
   "language": "python",
   "name": "python3"
  },
  "language_info": {
   "codemirror_mode": {
    "name": "ipython",
    "version": 3
   },
   "file_extension": ".py",
   "mimetype": "text/x-python",
   "name": "python",
   "nbconvert_exporter": "python",
   "pygments_lexer": "ipython3",
   "version": "3.10.12"
  }
 },
 "nbformat": 4,
 "nbformat_minor": 5
}
