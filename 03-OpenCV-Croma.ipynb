{
 "cells": [
  {
   "cell_type": "markdown",
   "id": "19f63b23-70b0-4376-950a-06e231deb3a5",
   "metadata": {},
   "source": [
    "# Croma"
   ]
  },
  {
   "cell_type": "markdown",
   "id": "4835487f-5ebd-47e9-8ccd-f70b04005a74",
   "metadata": {},
   "source": [
    "El efecto [croma](https://es.wikipedia.org/wiki/Croma) permite sustituir los píxeles de una imagen que tienen un tono de color determinado (usualmente verde o azul). Para la identificación de los píxeles que tienen un tono determinado es de especial utilidad emplear el espacio de color [HSV](https://es.wikipedia.org/wiki/Modelo_de_color_HSV) pues el tono se encuentra en una sola de las componentes mientras que las otras dos indican la intensidad y el brillo con que es percibido dicho tono."
   ]
  },
  {
   "cell_type": "code",
   "execution_count": 18,
   "id": "44d7c00f-2481-4b2f-8d11-1761a335fac2",
   "metadata": {},
   "outputs": [],
   "source": [
    "import cv2\n",
    "import numpy as np\n",
    "import cuia\n",
    "from matplotlib import pyplot as plt"
   ]
  },
  {
   "cell_type": "markdown",
   "id": "8744977a-5a31-42a4-938d-d9f58e984c51",
   "metadata": {},
   "source": [
    "Para empezar debemos identificar el tono que queremos sustituir en el espacio de color HSV.\n",
    "\n",
    "**Nota:** No hay que olvidar que, aunque el modelo de color establece valores de H entre 0 y 360, OpenCV los escala al rango [0,180)."
   ]
  },
  {
   "cell_type": "code",
   "execution_count": 20,
   "id": "a154ef65-7fb8-4608-917b-9d034bfab553",
   "metadata": {},
   "outputs": [
    {
     "data": {
      "image/png": "[encoded data removed]",
      "text/plain": [
       "<Figure size 180x50 with 1 Axes>"
      ]
     },
     "metadata": {},
     "output_type": "display_data"
    }
   ],
   "source": [
    "mapa = np.full((50,180,3), 255, dtype=np.uint8)\n",
    "for i in range(180):\n",
    "    mapa[:,i,0] = i\n",
    "mapabgr = cv2.cvtColor(mapa, cv2.COLOR_HSV2BGR)\n",
    "cuia.plot(mapabgr, titulo=\"Hue\", axis=True)"
   ]
  },
  {
   "cell_type": "code",
   "execution_count": 19,
   "id": "2f99c78b-d3c3-4bd2-81da-28fa4bf0a1c0",
   "metadata": {},
   "outputs": [
    {
     "data": {
      "text/plain": [
       "<matplotlib.image.AxesImage at 0x733f42f49240>"
      ]
     },
     "execution_count": 19,
     "metadata": {},
     "output_type": "execute_result"
    },
    {
     "data": {
      "image/png": "[encoded data removed]",
      "text/plain": [
       "<Figure size 640x480 with 1 Axes>"
      ]
     },
     "metadata": {},
     "output_type": "display_data"
    }
   ],
   "source": [
    "mapa = np.full((50,720,3), 255, dtype=np.uint8)\n",
    "for i in range(720):\n",
    "    mapa[:,i,0] = int(i/4.0)\n",
    "mapabgr = cv2.cvtColor(mapa, cv2.COLOR_HSV2BGR)\n",
    "\n",
    "fig = plt.figure()\n",
    "plt.imshow(mapabgr)\n"
   ]
  }
 ],
 "metadata": {
  "kernelspec": {
   "display_name": "Python 3 (ipykernel)",
   "language": "python",
   "name": "python3"
  },
  "language_info": {
   "codemirror_mode": {
    "name": "ipython",
    "version": 3
   },
   "file_extension": ".py",
   "mimetype": "text/x-python",
   "name": "python",
   "nbconvert_exporter": "python",
   "pygments_lexer": "ipython3",
   "version": "3.10.12"
  }
 },
 "nbformat": 4,
 "nbformat_minor": 5
}
