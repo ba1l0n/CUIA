{
 "cells": [
  {
   "cell_type": "markdown",
   "id": "19f63b23-70b0-4376-950a-06e231deb3a5",
   "metadata": {},
   "source": [
    "# Croma"
   ]
  },
  {
   "cell_type": "markdown",
   "id": "4835487f-5ebd-47e9-8ccd-f70b04005a74",
   "metadata": {},
   "source": [
    "El efecto [croma](https://es.wikipedia.org/wiki/Croma) permite sustituir los píxeles de una imagen que tienen un tono de color determinado (usualmente verde o azul). Para la identificación de los píxeles que tienen un tono determinado es de especial utilidad emplear el espacio de color [HSV](https://es.wikipedia.org/wiki/Modelo_de_color_HSV) pues el tono se encuentra en una sola de las componentes mientras que las otras dos indican la intensidad y el brillo con que es percibido dicho tono."
   ]
  },
  {
   "cell_type": "markdown",
   "id": "8744977a-5a31-42a4-938d-d9f58e984c51",
   "metadata": {},
   "source": [
    "Para empezar debemos identificar el tono que queremos sustituir en el espacio de color HSV. No hay que olvidar que, aunque el modelo de color establece valores de H entre 0 y 360, OpenCV los escala al rango [0,180). "
   ]
  }
 ],
 "metadata": {
  "kernelspec": {
   "display_name": "Python 3 (ipykernel)",
   "language": "python",
   "name": "python3"
  },
  "language_info": {
   "codemirror_mode": {
    "name": "ipython",
    "version": 3
   },
   "file_extension": ".py",
   "mimetype": "text/x-python",
   "name": "python",
   "nbconvert_exporter": "python",
   "pygments_lexer": "ipython3",
   "version": "3.10.12"
  }
 },
 "nbformat": 4,
 "nbformat_minor": 5
}
