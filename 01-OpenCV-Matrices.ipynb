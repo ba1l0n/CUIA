{
 "cells": [
  {
   "cell_type": "code",
   "execution_count": 11,
   "id": "d5c72cf6-25b1-4f36-9532-267346469b5e",
   "metadata": {},
   "outputs": [],
   "source": [
    "import cv2\n",
    "import numpy as np\n",
    "%matplotlib inline\n",
    "import cuia"
   ]
  },
  {
   "cell_type": "markdown",
   "id": "c60788fe-fdb3-4a13-88d2-e26e92946806",
   "metadata": {},
   "source": [
    "OpenCV utiliza la biblioteca [NumPy](https://numpy.org) para el almacenamiento y manipulación de imágenes en forma de matrices multidimensionales [ndarray](https://numpy.org/doc/stable/reference/arrays.ndarray.html)"
   ]
  },
  {
   "cell_type": "code",
   "execution_count": 2,
   "id": "a42e71e4-8937-4f31-a12b-557ff859df3a",
   "metadata": {},
   "outputs": [],
   "source": [
    "baboon = cv2.imread(\"media/baboon.jpg\")"
   ]
  },
  {
   "cell_type": "markdown",
   "id": "cbf940bc-0740-4ea3-a611-eb59ff6ab348",
   "metadata": {},
   "source": [
    "Las imágenes son almacenadas en matrices tridimensionales de enteros de 8 bits sin signo [uint8](https://numpy.org/doc/stable/reference/arrays.scalars.html#numpy.uint8). En estas matrices la primera dimensión representa las filas de la imagen, la segunda dimensión las columnas y la tercera las bandas. \n",
    "\n",
    "**ATENCIÓN**: Acostumbramos a referirnos a la posición de un pixel en pantalla indicando primero la columna (x) y después la fila (y), es decir, usamos unas coordenadas (x,y). Sin embargo, en OpenCV al acceder a la matriz de una imagen debemos indicar primero la fila (y) y después la columna (x).\n",
    "\n",
    "Una matriz ofrece una propiedad [shape](https://numpy.org/doc/stable/reference/generated/numpy.ndarray.shape.html) que devuelve una tupla con el tamaño de cada una de las dimensiones de la imagen."
   ]
  },
  {
   "cell_type": "code",
   "execution_count": 4,
   "id": "e06a86a4-7993-4bfb-b59f-756e3f9af10f",
   "metadata": {},
   "outputs": [
    {
     "name": "stdout",
     "output_type": "stream",
     "text": [
      "(512, 512, 3)\n"
     ]
    }
   ],
   "source": [
    "print(baboon.shape)"
   ]
  },
  {
   "cell_type": "markdown",
   "id": "4eacb989-0c0f-47d8-9cb1-694b1fe17ead",
   "metadata": {},
   "source": [
    "Podemos comprobar que la imagen baboon tiene 512 filas, 512 columnas y 3 bandas. La cantidad de bandas de una imagen dependen del [espacio de color](https://es.wikipedia.org/wiki/Espacio_de_color) con el que está codificada la imagen. Algunos ejemplos de espacios de color empleados en OpenCV son:\n",
    "* Código: GRAY\n",
    "    * Número de bandas: 1\n",
    "    * Espacio de color: Escala de grises\n",
    "    * Banda 0 [0 - 255] Representa la luminosidad del pixel en unna imagen en escala de grises\n",
    "* Código: BGR\n",
    "    * Número de bandas: 3\n",
    "    * Espacio de color [RGB](https://es.wikipedia.org/wiki/RGB) almacenado en el orden B-G-R\n",
    "    * Banda 0 (B) [0 - 255] Representa la intensidad del color azul\n",
    "    * Banda 1 (G) [0 - 255] Representa la intensidad del color verde\n",
    "    * Banda 2 (R) [0 - 255] Representa la intensidad del color rojo\n",
    "* Código: RGB\n",
    "    * Número de bandas: 3\n",
    "    * Espacio de color [RGB](https://es.wikipedia.org/wiki/RGB) almacenado en el orden R-G-B\n",
    "    * Banda 0 (R) [0 - 255] Representa la intensidad del color rojo\n",
    "    * Banda 1 (G) [0 - 255] Representa la intensidad del color verde\n",
    "    * Banda 2 (B) [0 - 255] Representa la intensidad del color azul\n",
    "* Código: HSV\n",
    "    * Número de bandas: 3\n",
    "    * Espacio de color [HSV](https://es.wikipedia.org/wiki/Modelo_de_color_HSV)\n",
    "    * Banda 0 (H) [0 - 180] Representa el tono (H)\n",
    "    * Banda 1 (S) [0 - 255] Representa la saturación (S)\n",
    "    * Banda 2 (V) [0 - 255] Representa el valor (V)\n",
    "* Código: BGRA\n",
    "    * Número de bandas: 4\n",
    "    * Espacio de color [RGB](https://es.wikipedia.org/wiki/RGB) con banda alfa representanndo la opacidad de los píxeles almacenado en el orden B-G-R-A\n",
    "    * Banda 0 (B) [0 - 255] Representa la intensidad del color azul\n",
    "    * Banda 1 (G) [0 - 255] Representa la intensidad del color verde\n",
    "    * Banda 2 (R) [0 - 255] Representa la intensidad del color rojo\n",
    "    * Banda 3 (A) [0 - 255] Representa la opacidad del pixel (0=Transparencia total, 255=Opacidad total)\n",
    "\n",
    "OpenCV por defecto usa el espacio de coloor RGB pero con el orden **BGR** (Esto es debido a que cuando se creó OpenCV no estaba ampliamente aceptado el orden RGB sino que más bien era BGR el ordenamiento más popular). OpenCV ofrece la posibilidad de convertir el espacio de color de una imagen entre RGB, BGR y otros muchos espacios de color adicionales mediante la función [cvtColor](https://docs.opencv.org/4.x/d8/d01/group__imgproc__color__conversions.html#ga397ae87e1288a81d2363b61574eb8cab)"
   ]
  },
  {
   "cell_type": "markdown",
   "id": "5af4def0-40ff-4bf9-aa54-ea3a25d02a1b",
   "metadata": {},
   "source": [
    "La función [imread(filename[,flags])](https://docs.opencv.org/4.x/d4/da8/group__imgcodecs.html#gab32ee19e22660912565f8140d0f675a8) lee de disco una imagen, la interpreta en función de su contenido sin importar la extensión del fichero y la almacena en una matriz de NumPy.\n",
    "Si no se indica ninguna [flag](https://docs.opencv.org/4.x/d8/d6a/group__imgcodecs__flags.html#ga61d9b0126a3e57d9277ac48327799c80), por defecto las imágenes en color las convierte al espacio de color BGR. En el caso de las imágenes con canal alfa, si queremos que se coonserve la información del canal alfa debemos leer la imagen con el parámetro cv2.IMREAD_UNCHANGED."
   ]
  },
  {
   "cell_type": "markdown",
   "id": "1251f2f8-83d4-4170-bea5-180582f2b61f",
   "metadata": {},
   "source": [
    "Comprobemos el efecto que tiene leer una imagen con canal alfa con la conversión a BGR por defecto y la mostraremos mediante Matplotlib usando la función **plot** definida en cuia.py."
   ]
  },
  {
   "cell_type": "code",
   "execution_count": 17,
   "id": "16720f36-5695-42f8-9652-5220668a19ee",
   "metadata": {},
   "outputs": [
    {
     "name": "stdout",
     "output_type": "stream",
     "text": [
      "(120, 117, 3)\n"
     ]
    },
    {
     "data": {
      "image/png": "[encoded data removed]",
      "text/plain": [
       "<Figure size 120x117 with 1 Axes>"
      ]
     },
     "metadata": {},
     "output_type": "display_data"
    }
   ],
   "source": [
    "opencv = cv2.imread(\"media/opencv.png\")\n",
    "print(opencv.shape)\n",
    "cuia.plot(opencv)"
   ]
  },
  {
   "cell_type": "markdown",
   "id": "1f07eb17-43c6-446f-9d09-6223186d017b",
   "metadata": {},
   "source": [
    "Ahora comprobaremos el efecto de hacer la lectura usando cv2.IMREAD_UNCHANGED"
   ]
  },
  {
   "cell_type": "code",
   "execution_count": 19,
   "id": "b65d1262-7aa7-4908-80fe-9124278afad6",
   "metadata": {},
   "outputs": [
    {
     "name": "stdout",
     "output_type": "stream",
     "text": [
      "(120, 117, 4)\n"
     ]
    },
    {
     "data": {
      "image/png": "[encoded data removed]",
      "text/plain": [
       "<Figure size 120x117 with 1 Axes>"
      ]
     },
     "metadata": {},
     "output_type": "display_data"
    }
   ],
   "source": [
    "opencv = cv2.imread(\"media/opencv.png\", cv2.IMREAD_UNCHANGED)\n",
    "print(opencv.shape)\n",
    "cuia.plot(opencv)"
   ]
  },
  {
   "cell_type": "markdown",
   "id": "2ebb180a-13e6-409d-917f-c96ee34d69c8",
   "metadata": {},
   "source": [
    "La función [**imshow(\twinname, mat\t)**](https://docs.opencv.org/4.x/d7/dfc/group__highgui.html#ga453d42fe4cb60e5723281a89973ee563), si recibe una matriz de una sola banda la interpreta como una imagen en escala de grises, si recibe 3 bandas la interpreta como una imagen BGR y si recibe 4 bandas la interpreta como una imagen BGRA pero ignorando el canal alfa. Por ese motivo, una imagen con canal alfa no es mostrada por imshow como esperábamos. Usaremos imshow dentro de la función **popup** que definimos en cuia.py."
   ]
  },
  {
   "cell_type": "code",
   "execution_count": 20,
   "id": "5acfe434-df3b-45b3-8e85-e083241d8596",
   "metadata": {},
   "outputs": [],
   "source": [
    "cuia.popup(\"OPENCV\",opencv)"
   ]
  }
 ],
 "metadata": {
  "kernelspec": {
   "display_name": "Python 3 (ipykernel)",
   "language": "python",
   "name": "python3"
  },
  "language_info": {
   "codemirror_mode": {
    "name": "ipython",
    "version": 3
   },
   "file_extension": ".py",
   "mimetype": "text/x-python",
   "name": "python",
   "nbconvert_exporter": "python",
   "pygments_lexer": "ipython3",
   "version": "3.10.12"
  }
 },
 "nbformat": 4,
 "nbformat_minor": 5
}
